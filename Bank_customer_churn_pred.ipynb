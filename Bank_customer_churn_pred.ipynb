{
  "nbformat": 4,
  "nbformat_minor": 0,
  "metadata": {
    "colab": {
      "private_outputs": true,
      "provenance": [],
      "authorship_tag": "ABX9TyPbGEehTLvCKcpLenOEe6BN",
      "include_colab_link": true
    },
    "kernelspec": {
      "name": "python3",
      "display_name": "Python 3"
    },
    "language_info": {
      "name": "python"
    }
  },
  "cells": [
    {
      "cell_type": "markdown",
      "metadata": {
        "id": "view-in-github",
        "colab_type": "text"
      },
      "source": [
        "<a href=\"https://colab.research.google.com/github/ishumann/Churn-Prediction/blob/main/Bank_customer_churn_pred.ipynb\" target=\"_parent\"><img src=\"https://colab.research.google.com/assets/colab-badge.svg\" alt=\"Open In Colab\"/></a>"
      ]
    },
    {
      "cell_type": "code",
      "execution_count": null,
      "metadata": {
        "id": "leqKVPDZEmfX"
      },
      "outputs": [],
      "source": []
    },
    {
      "cell_type": "markdown",
      "source": [
        "# Topic: Churn Prediction\n",
        "\n",
        "## Churn?\n",
        "\n",
        "means  customer who gonna disinvest/inactive/disengagement over time.\n",
        "\n",
        "indication - lack of account activity, lesser watch time than previously - in Netflix example.\n",
        "\n",
        "not windrowing money or services.\n",
        "\n",
        "## Objective\n",
        "\n",
        "identify & visualize factors contributes Cust. churn\n",
        "\n",
        "build a prediction model\n",
        "\n",
        "- classify if customer gonna churn or not\n",
        "- choose model that attach prob. to churn.\n",
        "- with this let customer service to target those who are likely gonna leave and try to provide customer services with less efforts.\n",
        "\n",
        "## How?\n",
        "\n",
        "- Use Deep learning(sequential model)\n",
        "- sq. model - build NN by stacking layers on top of another.\n",
        "- h20 autoML\n",
        "    - open - sourced\n",
        "    - in-memory machine learning\n",
        "    - linear scalability.\n",
        "    - uses Algo like - gradient boosting, generalized linear models, deep learning.\n",
        "\n",
        "## Steps/timeline of this project\n",
        "\n",
        "- Data Analysis\n",
        "    - finding relations\n",
        "- Feature Engineering\n",
        "    - preprocessing\n",
        "- Model Building\n",
        "    - ml/dl algorithms\n",
        "- Model Building with Auto ML"
      ],
      "metadata": {
        "id": "f8nfSzOjFLwq"
      }
    },
    {
      "cell_type": "code",
      "source": [
        "import numpy as np\n",
        "import pandas as pd\n",
        "import matplotlib.pyplot as plt\n",
        "%matplotlib inline\n",
        "from google.colab import drive\n",
        "drive.mount('/content/drive')"
      ],
      "metadata": {
        "id": "LvezRVBUF2G-"
      },
      "execution_count": null,
      "outputs": []
    },
    {
      "cell_type": "code",
      "source": [
        "df = pd.read_csv(\"https://raw.githubusercontent.com/ishumann/Churn-Prediction/main/Bank_data.csv\")"
      ],
      "metadata": {
        "id": "Xhq9hO_jGSjt"
      },
      "execution_count": null,
      "outputs": []
    },
    {
      "cell_type": "code",
      "source": [
        "df"
      ],
      "metadata": {
        "id": "eb8FPaedHAiY"
      },
      "execution_count": null,
      "outputs": []
    },
    {
      "cell_type": "code",
      "source": [
        "df.head()"
      ],
      "metadata": {
        "id": "fXfxIzNnQlyf"
      },
      "execution_count": null,
      "outputs": []
    },
    {
      "cell_type": "code",
      "source": [],
      "metadata": {
        "id": "Bd-Y_exdRYOR"
      },
      "execution_count": null,
      "outputs": []
    },
    {
      "cell_type": "code",
      "source": [
        "df.columns"
      ],
      "metadata": {
        "id": "eKbvt1mkRC8M"
      },
      "execution_count": null,
      "outputs": []
    },
    {
      "cell_type": "code",
      "source": [
        "df.drop(['CustomerId', 'Surname', 'RowNumber'], axis =1,inplace = True)"
      ],
      "metadata": {
        "id": "kmFELGgbRLtX"
      },
      "execution_count": null,
      "outputs": []
    },
    {
      "cell_type": "code",
      "source": [
        "df.head()"
      ],
      "metadata": {
        "id": "fKip_wUMR8Bs"
      },
      "execution_count": null,
      "outputs": []
    },
    {
      "cell_type": "code",
      "source": [
        "df.dtypes"
      ],
      "metadata": {
        "id": "DnHT6QVQR98U"
      },
      "execution_count": null,
      "outputs": []
    },
    {
      "cell_type": "code",
      "source": [],
      "metadata": {
        "id": "4IS2Fc6Ihk9I"
      },
      "execution_count": null,
      "outputs": []
    },
    {
      "cell_type": "markdown",
      "source": [
        "## Data Analysis\n",
        "\n",
        "check how data is distributed and how diff feature are responsible for the outcome.\n",
        "\n",
        "tenure - how old the customer been with the bank\n",
        "no. of products - no. of services cust is using.\n",
        "isactivemember - using account fequantly i.e widrowing\n",
        "\n",
        "dependent variable - exited(chruning)\n",
        "\n",
        "\n",
        "\n",
        "## Steps for data analysis\n",
        "### Data Visualization\n",
        "* Extited ratio\n",
        "    * Pie chart\n",
        "        * how many customer chruned or not in persantage.\n",
        "        * observation -\n",
        "            * 20.4% customer churned\n",
        "\n",
        "* Relation of  categories againest exited features (Count Plot)\n",
        "    * obeservation -\n",
        "        * Geography vs Exited\n",
        "            * majority customer are from france followed by spain and germany(almost equal)\n",
        "            * france and germany has maximum churn rate but the ratio between churned and retained in germany rate people exiting is high. (retained ~ 1700-1800, exited ~ 700-800) , france -> (retained ~ 4000, exited ~ 700-800)\n",
        "\n",
        "        * Gender  vs Exited\n",
        "            * male are more in numbers\n",
        "            * although female count is less but churn count is more then male\n",
        "        * HasCrCard  vs Exited\n",
        "            * cust with card > no card\n",
        "            * surprisingly cust with card exited > no card\n",
        "        * IsActiveMember  vs Exited\n",
        "            * ~(almost) = proportion\n",
        "            * less active chruned more\n",
        "\n",
        "* Relation of  Continues againest exited features (box Plot)\n",
        "    * creditscore vs Exited -> not much diffrence b/w retained and exited cust.'s credit score not valuble for prediction\n",
        "    * vs age -> cust. with churning is old than retained. median > 40, less likely 30~40.\n",
        "    * vs tenure -> newer (2 - years and older cust. 8) likely to churn, 4-6 yrs cust. most likly stay.\n",
        "    * vs balance -> median is same, 25 %ile is 0 for cust. who stayed, 25% people have who stayed 0 balance\n",
        "    * vs servies -> can't tell from this, same, not good predictor\n",
        "    * salay -> is same, not to tell from it.\n",
        "\n",
        "### Good Predictors are:\n",
        "* Tenure\n",
        "* Balance\n",
        "* Age\n",
        "* Geography\n",
        "* Gender\n",
        "* HasCrCard\n",
        "* IsActiveMember\n",
        "\n",
        "\n",
        "## Feature Engineering\n",
        "\n",
        "*  making a new column BalanceSalaryRatio\n",
        "    * bal. and salary alone were not impacful so, combined and  check is it effactiing on exited\n",
        "    * obervation - not that imacful but cust. > 2 -> likly to leave.\n",
        "\n",
        "*  making a new column TenureByAge\n",
        "    * Ten. and age were were  impacful so, combined and  check is it effactiing on exited\n",
        "    * obervation - not that imacful\n",
        "\n",
        "### For Categorical Data\n",
        "* Encoding\n",
        "    * Gender - labelEncoding\n",
        "    * location - OneHotEncoding\n",
        "\n",
        "### For  Numarical Data\n",
        "* Feature Scaling\n",
        "    * MinMaxScaler - scaled by min, max -> turn into [0,1], scale data in between 0 and 1. affect by outliars, use distribution != Gaussian\n",
        "    * StandardScaler: centered around zero, remove mean -> scale to unit variance -> scale by std(), less effected by outliars, prefferd by algo that assumes zero- centered data - regression models.\n",
        "\n",
        "\n",
        "#### Final data\n",
        "\n",
        "## Model Training\n",
        "* ANN - stack of neural layers one tensor intput -> ANN -> one Tensor Output    \n",
        "\n",
        "* When not to use?\n",
        " * model have muliple i/p or multi o/p,\n",
        "    * if any:\n",
        "        * do layer sharing\n",
        " * you want non-linear topology\n",
        " (i.e. a residual connectionm a multi-branch model)\n",
        "\n",
        " ## Model Evaluation\n",
        " * Confusion matrix (tp,fn,fp,tn)\n",
        " * Classification Report(presision, recall, f1-score, support, accuracy, specifity, macro avg, weigh avg)\n",
        "  * presision -> true spam pred out of total spam prediction\n",
        "    * if not concern with ham being classi. as spam\n",
        "    * if person  is frustrast with spam he will be ok with ham classi. as spam. than he look for precision\n",
        "  * recall -> true spam pred out of true spam.\n",
        "    * If wanna make sure that only spam is being prdicted as spam, and imp. mail not going in spam mail. than emphisis on this.\n",
        "    * recall = balanced approch(harmonic mean) b/w precision and recall\n"
      ],
      "metadata": {
        "id": "jbxShLTPSDnd"
      }
    },
    {
      "cell_type": "code",
      "source": [
        "df.head()\n"
      ],
      "metadata": {
        "id": "SGpxSTaZVSu6"
      },
      "execution_count": null,
      "outputs": []
    },
    {
      "cell_type": "code",
      "source": [
        "df.nunique()"
      ],
      "metadata": {
        "id": "GYfRT8eQUMIG"
      },
      "execution_count": null,
      "outputs": []
    },
    {
      "cell_type": "code",
      "source": [
        "type(df.Exited.value_counts()[0])"
      ],
      "metadata": {
        "id": "BjQ5cJLpZBsB"
      },
      "execution_count": null,
      "outputs": []
    },
    {
      "cell_type": "code",
      "source": [
        "type(df.Exited[df.Exited ==0].count())"
      ],
      "metadata": {
        "id": "352GlisIZSdn"
      },
      "execution_count": null,
      "outputs": []
    },
    {
      "cell_type": "code",
      "source": [
        "labels = 'Exited(Churned)', \"Retained\"\n",
        "sizes= [df.Exited.value_counts()[1], df.Exited.value_counts()[0]] # if add more size, pie will split further\n",
        "explode = (0,0.1)\n",
        "fig1, ax1 = plt.subplots(figsize = (10,8)) # wrapper, create common layout for subplot\n",
        "ax1.pie(sizes, explode = explode, labels = labels , autopct= '%1.1f%%', shadow = True, startangle = 90)\n",
        "ax1.axis('equal')\n",
        "plt.title('proportion of custome churned and retained', size = 20)\n",
        "plt.show()\n",
        "# make  sure to double-check label and the data\n"
      ],
      "metadata": {
        "id": "mTO3y0CJUtm6"
      },
      "execution_count": null,
      "outputs": []
    },
    {
      "cell_type": "code",
      "source": [
        "import seaborn as sns"
      ],
      "metadata": {
        "id": "Rfxou-2IblLS"
      },
      "execution_count": null,
      "outputs": []
    },
    {
      "cell_type": "code",
      "source": [
        "# we first review the \"status\" relation with catregorical variables\n",
        "\n",
        "fig, axarr = plt.subplots(2,2,figsize = (20,12) )\n",
        "count1 = sns.countplot(x='Geography', hue ='Exited', data = df, ax = axarr[0][0])\n",
        "count1.bar_label(count1.containers[0])\n",
        "count1.bar_label(count1.containers[1])\n",
        "\n",
        "count2 = sns.countplot(x='Gender', hue ='Exited', data = df, ax = axarr[0][1], )\n",
        "count2.bar_label(count2.containers[0])\n",
        "count2.bar_label(count2.containers[1])\n",
        "count3 = sns.countplot(x='HasCrCard', hue ='Exited', data = df, ax = axarr[1][0])\n",
        "count3.bar_label(count3.containers[0])\n",
        "count3.bar_label(count3.containers[1])\n",
        "count4 =sns.countplot(x='IsActiveMember', hue ='Exited', data = df, ax = axarr[1][1])\n",
        "count4.bar_label(count4.containers[0])\n",
        "count4.bar_label(count4.containers[1])\n",
        "\n",
        "\n"
      ],
      "metadata": {
        "id": "CDI--TpadGud"
      },
      "execution_count": null,
      "outputs": []
    },
    {
      "cell_type": "code",
      "source": [
        "# we first review the \"status\" relation with catregorical variables\n",
        "\n",
        "fig, axarr = plt.subplots(3,2,figsize = (20,30) )\n",
        "box1 = sns.boxplot(y='CreditScore',  x = \"Exited\", hue ='Exited', data = df, ax = axarr[0][0])\n",
        "\n",
        "box2 = sns.boxplot(y='Age', x = \"Exited\",  hue ='Exited', data = df, ax = axarr[0][1], )\n",
        "box3 = sns.boxplot(y='Tenure', x = \"Exited\",  hue ='Exited', data = df, ax = axarr[1][0])\n",
        "\n",
        "box4 =sns.boxplot(y='Balance', x = \"Exited\",  hue ='Exited', data = df, ax = axarr[1][1])\n",
        "box5 =sns.boxplot(y='NumOfProducts', x = \"Exited\",  hue ='Exited', data = df, ax = axarr[2][0])\n",
        "box6 =sns.boxplot(y='EstimatedSalary', x = \"Exited\",  hue ='Exited', data = df, ax = axarr[2][1])\n"
      ],
      "metadata": {
        "id": "kaM_hsy0erpY"
      },
      "execution_count": null,
      "outputs": []
    },
    {
      "cell_type": "code",
      "source": [
        "df['BalanceSalaryRatio']  = df.Balance/df.EstimatedSalary\n",
        "sns.boxplot(y= 'BalanceSalaryRatio', x= 'Exited', hue = 'Exited', data = df)\n",
        "plt.ylim(-1,5)"
      ],
      "metadata": {
        "id": "jihANTHpeutJ"
      },
      "execution_count": null,
      "outputs": []
    },
    {
      "cell_type": "code",
      "source": [],
      "metadata": {
        "id": "8-PsVw9SZexn"
      },
      "execution_count": null,
      "outputs": []
    },
    {
      "cell_type": "markdown",
      "source": [],
      "metadata": {
        "id": "q0lsXhehZelO"
      }
    },
    {
      "cell_type": "code",
      "source": [
        "df[\"TenureByAge\"] = df.Tenure/(df.Age)\n",
        "sns.boxplot(y = \"TenureByAge\", x=\"Exited\", hue=\"Exited\", data= df)\n",
        "plt.ylim(-1, 1)\n",
        "plt.show()"
      ],
      "metadata": {
        "id": "fgi6w_UEBLeD"
      },
      "execution_count": null,
      "outputs": []
    },
    {
      "cell_type": "code",
      "source": [
        "for col in df:\n",
        "    if df[col].dtype==\"object\":\n",
        "        print(f\"{col} : {df[col].unique()}\")"
      ],
      "metadata": {
        "id": "xPK49Gu6YNt0"
      },
      "execution_count": null,
      "outputs": []
    },
    {
      "cell_type": "code",
      "source": [
        "df['Gender'].replace({'Male': 1 , \"Female\": 0}, inplace= True)"
      ],
      "metadata": {
        "id": "uNzR0wUtbx15"
      },
      "execution_count": null,
      "outputs": []
    },
    {
      "cell_type": "code",
      "source": [
        "df1 = pd.get_dummies(data= df, columns = [\"Geography\"], dtype=int,drop_first=True)\n",
        "df1.head()"
      ],
      "metadata": {
        "id": "pdumvE49dg5T"
      },
      "execution_count": null,
      "outputs": []
    },
    {
      "cell_type": "code",
      "source": [
        "scale_var = [\"Tenure\", \"CreditScore\", \"Age\", \"Balance\", \"NumOfProducts\",\"EstimatedSalary\" ]"
      ],
      "metadata": {
        "id": "mzOtcXh7gThK"
      },
      "execution_count": null,
      "outputs": []
    },
    {
      "cell_type": "code",
      "source": [
        "from sklearn.preprocessing import MinMaxScaler\n"
      ],
      "metadata": {
        "id": "3cb7DIkbdjr7"
      },
      "execution_count": null,
      "outputs": []
    },
    {
      "cell_type": "code",
      "source": [
        "scale = MinMaxScaler()"
      ],
      "metadata": {
        "id": "hcndOyssl_fg"
      },
      "execution_count": null,
      "outputs": []
    },
    {
      "cell_type": "code",
      "source": [
        "\n",
        "df1[scale_var] = scale.fit_transform(df1[scale_var])"
      ],
      "metadata": {
        "id": "ijWv4sXLfehw"
      },
      "execution_count": null,
      "outputs": []
    },
    {
      "cell_type": "code",
      "source": [
        "df1.head()"
      ],
      "metadata": {
        "id": "siQzqpJKfs8u"
      },
      "execution_count": null,
      "outputs": []
    },
    {
      "cell_type": "code",
      "source": [
        "X = df1.drop('Exited', axis = 1)\n",
        "y = df1[\"Exited\"]\n",
        "\n",
        "from sklearn.model_selection import train_test_split\n",
        "\n",
        "X_train, X_test, y_train, y_test = train_test_split(X,y,random_state=42, test_size = 0.2)"
      ],
      "metadata": {
        "id": "BBSOmtEomZ4N"
      },
      "execution_count": null,
      "outputs": []
    },
    {
      "cell_type": "code",
      "source": [
        "X_train.shape"
      ],
      "metadata": {
        "id": "3JNR5l2y27kR"
      },
      "execution_count": null,
      "outputs": []
    },
    {
      "cell_type": "code",
      "source": [
        "X_train = X_train.reshape(-1, 32, 13)\n",
        "X_test = X_test.reshape(-1, 32, 13)"
      ],
      "metadata": {
        "id": "_U_1JYyK2tx-"
      },
      "execution_count": null,
      "outputs": []
    },
    {
      "cell_type": "code",
      "source": [],
      "metadata": {
        "id": "8mHuFxgDnlsq"
      },
      "execution_count": null,
      "outputs": []
    },
    {
      "cell_type": "code",
      "source": [
        "import tensorflow as tf\n",
        "from tensorflow.keras import Sequential\n",
        "from tensorflow.keras.layers import Dense\n",
        "\n",
        "\n",
        "model = Sequential([\n",
        "    Dense(12, input_shape=(13,), activation = 'relu'),\n",
        "    Dense(6, activation = 'relu'),\n",
        "    Dense(1, activation = 'sigmoid')\n",
        "])\n",
        "\n",
        "\n",
        "\n",
        "# Compile the model\n",
        "model.compile(optimizer='adam',\n",
        "              loss='binary_crossentropy',\n",
        "              metrics=['accuracy'])\n",
        "\n",
        "# Train the model\n",
        "model.fit(X_train, y_train, epochs=100, validation_split=0.2)\n",
        "\n",
        "# Evaluate the model\n",
        "test_loss, test_acc = model.evaluate(X_test, y_test)\n",
        "print('Test accuracy:', test_acc)\n"
      ],
      "metadata": {
        "id": "Q-2WESYkn__v"
      },
      "execution_count": null,
      "outputs": []
    },
    {
      "cell_type": "code",
      "source": [
        "y_pred = model.predict(X_test)"
      ],
      "metadata": {
        "id": "xL18Al0f6vs9"
      },
      "execution_count": null,
      "outputs": []
    },
    {
      "cell_type": "code",
      "source": [
        "pred = []\n",
        "for i in y_pred:\n",
        "    if i>0.5:\n",
        "        pred.append(1)\n",
        "    else:\n",
        "         pred.append(0)\n",
        "pred"
      ],
      "metadata": {
        "id": "U75biKtW7YCf"
      },
      "execution_count": null,
      "outputs": []
    },
    {
      "cell_type": "code",
      "source": [],
      "metadata": {
        "id": "MqppLB4LDjDy"
      },
      "execution_count": null,
      "outputs": []
    },
    {
      "cell_type": "code",
      "source": [
        "from sklearn.metrics import confusion_matrix , classification_report, accuracy_score\n",
        "\n",
        "print(classification_report(y_test, pred))"
      ],
      "metadata": {
        "id": "hGUw87AwxIpE"
      },
      "execution_count": null,
      "outputs": []
    },
    {
      "cell_type": "code",
      "source": [
        "plt.figure(figsize = (10 ,7))\n",
        "sns.heatmap(tf.math.confusion_matrix(labels=y_test, predictions=pred), annot=True, fmt='d')\n",
        "plt.xlabel(\"prdictions\")\n",
        "plt.ylabel(\"Truth\")"
      ],
      "metadata": {
        "id": "YJbrhv0s111S"
      },
      "execution_count": null,
      "outputs": []
    },
    {
      "cell_type": "code",
      "source": [
        "print(accuracy_score(y_test, pred))"
      ],
      "metadata": {
        "id": "mQv5-ErzKSTn"
      },
      "execution_count": null,
      "outputs": []
    },
    {
      "cell_type": "code",
      "source": [],
      "metadata": {
        "id": "PBBN0V4hLoUn"
      },
      "execution_count": null,
      "outputs": []
    },
    {
      "cell_type": "markdown",
      "source": [
        "# Installing H2o auto ML\n",
        "\n",
        "\n"
      ],
      "metadata": {
        "id": "a5wUVxOmOTWM"
      }
    },
    {
      "cell_type": "code",
      "source": [
        "!pip install requests\n",
        "!pip install tabulate\n",
        "!pip install colorme\n",
        "!pip install future\n",
        "!pip install h2o"
      ],
      "metadata": {
        "id": "BV-eTC6EOaFK"
      },
      "execution_count": null,
      "outputs": []
    },
    {
      "cell_type": "code",
      "source": [
        "import h2o\n",
        "from h2o.automl import H2OAutoML\n",
        "h2o.init(max_mem_size = '16G')\n"
      ],
      "metadata": {
        "id": "37aA7M4yOwIc"
      },
      "execution_count": null,
      "outputs": []
    },
    {
      "cell_type": "code",
      "source": [
        "df = h2o.import_file(\"https://raw.githubusercontent.com/ishumann/Churn-Prediction/main/Bank_data.csv\")"
      ],
      "metadata": {
        "id": "OkenVdfIPY56"
      },
      "execution_count": null,
      "outputs": []
    },
    {
      "cell_type": "code",
      "source": [
        "df.head()"
      ],
      "metadata": {
        "id": "7sqmiP_iQS5F"
      },
      "execution_count": null,
      "outputs": []
    },
    {
      "cell_type": "code",
      "source": [
        "df_train,df_test = df.split_frame(ratios = [.8])"
      ],
      "metadata": {
        "id": "HDszFb-IQZ6C"
      },
      "execution_count": null,
      "outputs": []
    },
    {
      "cell_type": "code",
      "source": [
        "df_train"
      ],
      "metadata": {
        "id": "2BYpRHURQy5Z"
      },
      "execution_count": null,
      "outputs": []
    },
    {
      "cell_type": "code",
      "source": [
        "y = 'Exited'\n",
        "X = df.columns\n",
        "X.remove(y)\n",
        "X.remove('CustomerId')\n",
        "X.remove('Surname')\n"
      ],
      "metadata": {
        "id": "oiDZagFWQ0OF"
      },
      "execution_count": null,
      "outputs": []
    },
    {
      "cell_type": "code",
      "source": [
        "aml = H2OAutoML(max_runtime_secs= 300, max_models =10, seed = 10, verbosity = \"info\", nfolds=2)"
      ],
      "metadata": {
        "id": "rm-nym9fRFCc"
      },
      "execution_count": null,
      "outputs": []
    },
    {
      "cell_type": "code",
      "source": [
        "aml.train(x=X, y=y, training_frame= df_train)"
      ],
      "metadata": {
        "id": "HBxUrOi7SfX0"
      },
      "execution_count": null,
      "outputs": []
    },
    {
      "cell_type": "code",
      "source": [
        "lb = aml.leaderboard"
      ],
      "metadata": {
        "id": "5qCWrAzcSkQL"
      },
      "execution_count": null,
      "outputs": []
    },
    {
      "cell_type": "code",
      "source": [
        "lb"
      ],
      "metadata": {
        "id": "n2VQ7TjEUTs3"
      },
      "execution_count": null,
      "outputs": []
    },
    {
      "cell_type": "code",
      "source": [
        "model_ids = list(aml.leaderboard['model_id'].as_data_frame().iloc[:,0])\n",
        "model_ids"
      ],
      "metadata": {
        "id": "Gmn1IcgFVtnm"
      },
      "execution_count": null,
      "outputs": []
    },
    {
      "cell_type": "code",
      "source": [
        "aml.leader.model_performance(df_test)\n"
      ],
      "metadata": {
        "id": "z4k-CSMCWMMu"
      },
      "execution_count": null,
      "outputs": []
    },
    {
      "cell_type": "code",
      "source": [
        "h2o.get_model([mid for mid in model_ids if \"StackedEnsemble\" in mid][0])"
      ],
      "metadata": {
        "id": "G8QApqSBXWGn"
      },
      "execution_count": null,
      "outputs": []
    },
    {
      "cell_type": "code",
      "source": [
        "output = h2o.get_model([mid for mid in model_ids if \"StackedEnsemble\" in mid][0])\n",
        "output.params"
      ],
      "metadata": {
        "id": "ha_rdkKhYAzz"
      },
      "execution_count": null,
      "outputs": []
    },
    {
      "cell_type": "code",
      "source": [
        "# output.varimp_plot()"
      ],
      "metadata": {
        "id": "YMJrMQu0Y3RD"
      },
      "execution_count": null,
      "outputs": []
    },
    {
      "cell_type": "code",
      "source": [
        "aml.leader"
      ],
      "metadata": {
        "id": "FZpwC79vZFkJ"
      },
      "execution_count": null,
      "outputs": []
    },
    {
      "cell_type": "code",
      "source": [
        "y_predict = aml.leader.predict(df_test)"
      ],
      "metadata": {
        "id": "Awdz8LB1ZRkC"
      },
      "execution_count": null,
      "outputs": []
    },
    {
      "cell_type": "code",
      "source": [
        "y_predict"
      ],
      "metadata": {
        "id": "GUgs9A8UZd0o"
      },
      "execution_count": null,
      "outputs": []
    },
    {
      "cell_type": "code",
      "source": [],
      "metadata": {
        "id": "nxiz-GfnZivi"
      },
      "execution_count": null,
      "outputs": []
    },
    {
      "cell_type": "code",
      "source": [],
      "metadata": {
        "id": "CN2rLqK8aApS"
      },
      "execution_count": null,
      "outputs": []
    }
  ]
}